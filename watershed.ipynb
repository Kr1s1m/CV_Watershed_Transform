{
 "cells": [
  {
   "cell_type": "markdown",
   "id": "475f4e18-7ef2-4ac5-aaa7-3932181bc8ec",
   "metadata": {},
   "source": [
    "# Watershed transform (digital image segmentation)"
   ]
  },
  {
   "cell_type": "code",
   "execution_count": 1,
   "id": "e90d8b88-050f-4909-acd7-56ab697f176e",
   "metadata": {},
   "outputs": [],
   "source": [
    "# import libraries\n",
    "import numpy as np\n",
    "import matplotlib.pyplot as plt\n",
    "import cv2"
   ]
  },
  {
   "cell_type": "markdown",
   "id": "d3571bc1-75db-4843-b918-c02fbb75dd3c",
   "metadata": {
    "editable": true,
    "slideshow": {
     "slide_type": ""
    },
    "tags": []
   },
   "source": [
    "## Image segmentation"
   ]
  },
  {
   "cell_type": "markdown",
   "id": "6fdf5c80-b62a-4cd1-8541-401af6997ecd",
   "metadata": {},
   "source": [
    "In digital image processing and computer vision, image segmentation is the process of partitioning a digital image into multiple image segments, also known as image regions or image objects (sets of pixels). The goal of segmentation is to simplify and/or change the representation of an image into something that is more meaningful and easier to analyze. Image segmentation is typically used to locate objects and boundaries (lines, curves, etc.) in images. More precisely, image segmentation is the process of assigning a label to every pixel in an image such that pixels with the same label share certain characteristics.\n",
    "\n",
    "The result of image segmentation is a set of segments that collectively cover the entire image, or a set of contours extracted from the image (edge detection). Each of the pixels in a region are similar with respect to some characteristic or computed property, such as color, intensity, or texture. Adjacent regions are significantly different with respect to the same characteristic(s). When applied to a stack of images, typical in medical imaging, the resulting contours after image segmentation can be used to create 3D reconstructions with the help of geometry reconstruction algorithms like marching cubes."
   ]
  },
  {
   "cell_type": "markdown",
   "id": "9eb53bf8-372d-4974-bd9a-ca395f349575",
   "metadata": {},
   "source": [
    "## Task definition and mathematical model"
   ]
  },
  {
   "cell_type": "markdown",
   "id": "0a839524-70a5-43ef-91ee-de5b523835e0",
   "metadata": {},
   "source": [
    "As stated above we are trying to find the partitioning of a digital image into multiple regions (sets of pixels)."
   ]
  },
  {
   "cell_type": "markdown",
   "id": "f3b18bda-d8fb-49c4-ab9e-28983da8def7",
   "metadata": {},
   "source": [
    "Let $R$ represent the entire spatial region occupied by an image. We may view image segmantation as a process that partitions $R$ into $n$ subregions, $R_1$, $R_2$,..., $R_n$ such that:"
   ]
  },
  {
   "cell_type": "markdown",
   "id": "7a53e49d-ef05-4fc7-bd5d-58392ce7e378",
   "metadata": {},
   "source": [
    "(a) $\\bigcup_{i=1}^nR_i=R$ $\\iff$ the segmentation must be complete - every pixel must be in a region"
   ]
  },
  {
   "cell_type": "markdown",
   "id": "84b9d27d-0918-47ed-bec4-52180b19b844",
   "metadata": {},
   "source": [
    "(b) $R_i$ is a connceted set, for $i = 0, 1, 2, ..., n$ $\\iff$ points in a region must be connected in a predefined sense (e.g., 8-connected)"
   ]
  },
  {
   "cell_type": "markdown",
   "id": "69581f18-83ad-4b9a-bf44-123a869cf74d",
   "metadata": {},
   "source": [
    "(c) $R_{i} \\cap R_{j} = \\varnothing$, for all i and j, $i \\neq j$ $\\iff$ different regions must be $\\textit{disjoint}$"
   ]
  },
  {
   "cell_type": "markdown",
   "id": "696aa8e2-48ce-4e18-9689-7aeb2a0b938a",
   "metadata": {},
   "source": [
    "(d) $Q(R_i) = \\textnormal{TRUE}$, for $i = 0, 1, 2, ..., n$ $\\iff$ pixels in a region must statisfy some property defined by prediacte $Q$ (e.g., intensity)"
   ]
  },
  {
   "cell_type": "markdown",
   "id": "6a1d8243-204a-45cc-96c7-38d461795da5",
   "metadata": {},
   "source": [
    "(e) $Q(R_{i} \\cup R_{j}) = \\textnormal{FALSE}$, for any $\\textit{adjacent}$ regions $R_i$ and $R_j$ $\\iff$ $\\textit{adjacent}$ regions must be different in the sense of predicate $Q$,"
   ]
  },
  {
   "cell_type": "markdown",
   "id": "a73c190c-bf40-4679-9ee6-02ec62fec713",
   "metadata": {},
   "source": [
    "where $Q(R_k)$ is a logical predicate defined over the points in set $R_k$ and $\\varnothing$ is the null set. The symbols $\\cup$ and $\\cap$ represent set union and intersection, respectively. Two regions $R_i$ and $R_j$ are said to be $\\textit{adjacent}$ if their union forms a connected set. If the set formed by the union of two regions is not connected, the regions are said to be $\\textit{disjoint}$."
   ]
  },
  {
   "cell_type": "markdown",
   "id": "f23468f6-5755-4884-ab68-626b8c7a3f86",
   "metadata": {},
   "source": [
    "Thus, we see that the fundamental problem in segmentation is to partition an\n",
    "image into regions that satisfy conditions (a) — (e). Segmentation algorithms\n",
    "for monochrome images generally are based on one of two basic categories dealing\n",
    "with properties of intensity values: $\\textit{discontinuity}$ and $\\textit{similarity}$. In the first category,\n",
    "we assume that boundaries of regions are sufficiently different from each other, and\n",
    "from the background, to allow boundary detection based on local discontinuities in\n",
    "intensity. $\\textit{Edge-based}$ segmentation is the principal approach used in this category.\n",
    "$\\textit{Region-based}$ segmentation approaches in the second category are based on partitioning an image into regions that are similar according to a set of predefined criteria."
   ]
  },
  {
   "cell_type": "code",
   "execution_count": null,
   "id": "8ad44a78-a5fe-499a-8869-e3f64f34b87d",
   "metadata": {},
   "outputs": [],
   "source": []
  }
 ],
 "metadata": {
  "kernelspec": {
   "display_name": "Python 3 (ipykernel)",
   "language": "python",
   "name": "python3"
  },
  "language_info": {
   "codemirror_mode": {
    "name": "ipython",
    "version": 3
   },
   "file_extension": ".py",
   "mimetype": "text/x-python",
   "name": "python",
   "nbconvert_exporter": "python",
   "pygments_lexer": "ipython3",
   "version": "3.12.6"
  }
 },
 "nbformat": 4,
 "nbformat_minor": 5
}
